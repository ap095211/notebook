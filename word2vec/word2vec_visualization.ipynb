{
 "cells": [
  {
   "cell_type": "markdown",
   "metadata": {},
   "source": [
    "# word2vecの結果を可視化\n",
    "\n",
    "word2vecの結果を主成分分析を使って可視化する。\n",
    "ある単語を入力した際に、その単語と類似度の高い単語のベクトルを取り出し、主成分分析により2次元に写像する。\n",
    "その結果を散布図で描画する。\n",
    "\n",
    "### 参考資料\n",
    "- word2vecによる自然言語処理技術\n",
    "- [word2vec可視化サンプルコード](https://github.com/nishio/mycorpus/blob/master/vis.py)"
   ]
  },
  {
   "cell_type": "code",
   "execution_count": 1,
   "metadata": {
    "collapsed": true
   },
   "outputs": [],
   "source": [
    "# いろいろパス指定\n",
    "WORD2VEC_BIN_PATH = './datas/wakati.bin'\n",
    "FONT_PATH = '/Library/Fonts/Osaka.ttf'"
   ]
  },
  {
   "cell_type": "code",
   "execution_count": 2,
   "metadata": {
    "collapsed": true
   },
   "outputs": [],
   "source": [
    "# jupyter notebookでグラフ描画するためのおまじない\n",
    "%matplotlib inline"
   ]
  },
  {
   "cell_type": "code",
   "execution_count": 3,
   "metadata": {
    "collapsed": true
   },
   "outputs": [],
   "source": [
    "# 各種モジュールの読み込み\n",
    "from sklearn.decomposition import PCA\n",
    "import matplotlib.pyplot as plt\n",
    "from gensim.models import word2vec\n",
    "\n",
    "# 日本語フォント指定する必用がある\n",
    "from matplotlib.font_manager import FontProperties\n",
    "\n",
    "font =  FontProperties(fname=FONT_PATH)\n",
    "FONT_SIZE = 10\n",
    "TEXT_KW = dict(fontsize=FONT_SIZE, fontweight='bold', fontproperties=font)"
   ]
  },
  {
   "cell_type": "code",
   "execution_count": 4,
   "metadata": {
    "collapsed": false
   },
   "outputs": [],
   "source": [
    "# word2vecデータの準備\n",
    "data = word2vec.Word2Vec.load_word2vec_format(WORD2VEC_BIN_PATH, binary=True)"
   ]
  },
  {
   "cell_type": "code",
   "execution_count": 5,
   "metadata": {
    "collapsed": true
   },
   "outputs": [],
   "source": [
    "def vis_word2vec(target_word, data):\n",
    "    # 対象の単語のベクトルと類似した単語を取得\n",
    "    try:\n",
    "        data[target_word]\n",
    "    except:\n",
    "        print u'not found.'\n",
    "        return 0\n",
    "    vec_japan = data[target_word]\n",
    "    sim_japan = data.most_similar(positive=target_word)\n",
    "\n",
    "    # 類似した単語のベクトル成分を取得\n",
    "    vec = dict()\n",
    "    for w, s in sim_japan:\n",
    "        vec[w] = data[w]\n",
    "\n",
    "    # ラベルを作成\n",
    "    word_indexes = [target_word] + [w for w, s in sim_japan]\n",
    "\n",
    "    # 主成分分析するデータを抽出\n",
    "    X = data[word_indexes]\n",
    "\n",
    "    # 主成分分析により2次元に圧縮\n",
    "    pca = PCA(n_components=2)\n",
    "    pca.fit(X)\n",
    "    # print pca.explained_variance_ratio_\n",
    "\n",
    "    X = pca.transform(X)\n",
    "    xs = X[:, 0]\n",
    "    ys = X[:, 1]\n",
    "\n",
    "    # plotする\n",
    "    plt.clf()\n",
    "    plt.scatter(xs, ys, marker='o')\n",
    "    plt.title(u'PCA for {}'.format(target_word), fontproperties=font)\n",
    "\n",
    "    for i, w in enumerate(word_indexes):\n",
    "        plt.annotate(\n",
    "            w,\n",
    "            xy = (xs[i], ys[i]),\n",
    "            xytext = (3, 3),\n",
    "            textcoords = 'offset points',\n",
    "            ha = 'left',\n",
    "            va = 'top',\n",
    "            **TEXT_KW\n",
    "        )"
   ]
  },
  {
   "cell_type": "markdown",
   "metadata": {},
   "source": [
    "# Pythonの可変長引数\n",
    "\n",
    "```python\n",
    "def hoge(*args, **kargs):\n",
    "    hogehoge---\n",
    "```\n",
    "\n",
    "今回、フォントのオプションとして\n",
    "```python\n",
    "TEXT_KW = dict(fontsize=FONT_SIZE, fontweight='bold', fontproperties=font)\n",
    "```\n",
    "を与えている。\n",
    "\n",
    "これを引数に与えると、\n",
    "```python\n",
    "hoge(**TEXT_KW)\n",
    "-> hoge(fontsize=FONT_SIZE, fontweight='bold', fontproperties=font)\n",
    "```\n",
    "と等しくなる。"
   ]
  },
  {
   "cell_type": "code",
   "execution_count": 6,
   "metadata": {
    "collapsed": false
   },
   "outputs": [
    {
     "name": "stderr",
     "output_type": "stream",
     "text": [
      "/Users/takahashi/.pyenv/versions/anaconda-2.4.0/lib/python2.7/site-packages/matplotlib/collections.py:590: FutureWarning: elementwise comparison failed; returning scalar instead, but in the future will perform elementwise comparison\n",
      "  if self._edgecolors == str('face'):\n"
     ]
    },
    {
     "data": {
      "image/png": "[encoded data removed]",
      "text/plain": [
       "<matplotlib.figure.Figure at 0x12dcda150>"
      ]
     },
     "metadata": {},
     "output_type": "display_data"
    }
   ],
   "source": [
    "vis_word2vec(target_word=u'高専', data=data)"
   ]
  },
  {
   "cell_type": "code",
   "execution_count": 7,
   "metadata": {
    "collapsed": false
   },
   "outputs": [
    {
     "data": {
      "image/png": "[encoded data removed]",
      "text/plain": [
       "<matplotlib.figure.Figure at 0x12eb9fc50>"
      ]
     },
     "metadata": {},
     "output_type": "display_data"
    }
   ],
   "source": [
    "vis_word2vec(target_word=u'言語', data=data)"
   ]
  },
  {
   "cell_type": "code",
   "execution_count": 8,
   "metadata": {
    "collapsed": false
   },
   "outputs": [
    {
     "data": {
      "image/png": "[encoded data removed]",
      "text/plain": [
       "<matplotlib.figure.Figure at 0x12ecc9850>"
      ]
     },
     "metadata": {},
     "output_type": "display_data"
    }
   ],
   "source": [
    "vis_word2vec(target_word=u'刑務', data=data)"
   ]
  },
  {
   "cell_type": "code",
   "execution_count": null,
   "metadata": {
    "collapsed": true
   },
   "outputs": [],
   "source": []
  }
 ],
 "metadata": {
  "kernelspec": {
   "display_name": "Python 2",
   "language": "python",
   "name": "python2"
  },
  "language_info": {
   "codemirror_mode": {
    "name": "ipython",
    "version": 2
   },
   "file_extension": ".py",
   "mimetype": "text/x-python",
   "name": "python",
   "nbconvert_exporter": "python",
   "pygments_lexer": "ipython2",
   "version": "2.7.11"
  }
 },
 "nbformat": 4,
 "nbformat_minor": 0
}
