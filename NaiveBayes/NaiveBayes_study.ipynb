{
 "cells": [
  {
   "cell_type": "markdown",
   "metadata": {},
   "source": [
    "# 「gihyo.jpの機械学習始めよう　第3回ベイジアンフィルタを実装してみよう」を実践\n",
    "[giyo.jpのページ](http://gihyo.jp/dev/serial/01/machine-learning/0003?page=1)"
   ]
  },
  {
   "cell_type": "code",
   "execution_count": 1,
   "metadata": {
    "collapsed": true
   },
   "outputs": [],
   "source": [
    "# 必用なモジュールをimport\n",
    "import sys\n",
    "import math\n",
    "# python3ではpip install mecab-python3\n",
    "import MeCab"
   ]
  },
  {
   "cell_type": "code",
   "execution_count": 2,
   "metadata": {
    "collapsed": false
   },
   "outputs": [],
   "source": [
    "# MeCab解析器を分かち書きモードで取得\n",
    "tagger = MeCab.Tagger(\"-Owakati\")\n",
    "\n",
    "def get_words(doc):\n",
    "        \"\"\"\n",
    "        与えられた文字列docに対して単語分割を行い、タプルで返す。　\n",
    "        doc = '単語分割を行う。'\n",
    "        return ('単語', '分割', 'を', '行う',  '。')\n",
    "        \"\"\"\n",
    "        tagged =  tagger.parse(doc)\n",
    "        return tuple(word for word in tagged.rstrip().split(' '))"
   ]
  },
  {
   "cell_type": "markdown",
   "metadata": {},
   "source": [
    "## ナイーブベイズクラス\n",
    "\n",
    "文章(doc)からカテゴリ(cat)に属する確率をベイズの定理を用いて求める。\n",
    "\n",
    "$$ P(cat | doc) = \\frac{P(doc | cat) P(cat)}{P(doc)} $$\n",
    "\n",
    "文章は分割した単語(word)の集合で、単語の独立性を仮定して以下のように近似する。\n",
    "\n",
    "$$ P(doc | cat) = P(word1 | cat) P(word2 | cat) ... P(word\\it{n}| cat) $$"
   ]
  },
  {
   "cell_type": "code",
   "execution_count": 3,
   "metadata": {
    "collapsed": false
   },
   "outputs": [],
   "source": [
    "class NaiveBayes:\n",
    "    def __init__(self):\n",
    "        self.vocabularies = set() # 単語の集合\n",
    "        self.wordcount = {} # {カテゴリ1:{単語1:n, 単語2:n, ...}, ...}\n",
    "        self.catcount = {} # {カテゴリ1:n, ...}\n",
    "        \n",
    "    def word_count_up(self, word, cat):        \n",
    "        \"\"\"あるカテゴリの単語頻度をカウントアップする\"\"\"\n",
    "        self.wordcount.setdefault(cat, {}) # デフォルト値を設定\n",
    "        self.wordcount[cat].setdefault(word, 0)\n",
    "        self.wordcount[cat][word] += 1\n",
    "        self.vocabularies.add(word)\n",
    "        \n",
    "    def cat_count_up(self, cat):\n",
    "        \"\"\"カテゴリの頻度をカウントアップする\"\"\"\n",
    "        self.catcount.setdefault(cat, 0)\n",
    "        self.catcount[cat] += 1\n",
    "        \n",
    "    def train(self, doc, cat):\n",
    "        \"\"\"モデルを訓練する\"\"\"\n",
    "        words = get_words(doc)\n",
    "        for word in words:\n",
    "            self.word_count_up(word, cat)\n",
    "        self.cat_count_up(cat)\n",
    "        \n",
    "    def prior_prob(self, cat):\n",
    "        \"\"\"catの事前確率P(cat)を求める\"\"\"\n",
    "        return float(self.catcount[cat]) / sum(self.catcount.values())\n",
    "    \n",
    "    def incategory(self, word, cat):\n",
    "        \"\"\"あるカテゴリ(cat)中にある単語(word)が出現した回数を返す\"\"\"\n",
    "        if word in self.wordcount[cat]:\n",
    "            return float(self.wordcount[cat][word])\n",
    "        return 0.0\n",
    "    \n",
    "    def wordprob(self, word, cat):\n",
    "        \"\"\"\n",
    "        P(word | cat), 尤度を求める\n",
    "        加算スムージング\n",
    "        \"\"\"\n",
    "        prob = \\\n",
    "            (self.incategory(word, cat) + 1.0) / \\\n",
    "            (sum(self.wordcount[cat].values()) +  len(self.vocabularies) * 1.0) \n",
    "        return prob\n",
    "    \n",
    "    def score(self, words, cat):\n",
    "        \"\"\"\n",
    "        確率値を対数で算出\n",
    "        対数化することで足し算になる\n",
    "        \"\"\"\n",
    "        score = math.log(self.prior_prob(cat))\n",
    "        for word in words:\n",
    "            score += math.log(self.wordprob(word, cat))\n",
    "        return score\n",
    "    \n",
    "    def classifier(self, words):\n",
    "        \"\"\"\n",
    "        分類\n",
    "        もっとも高い確率のカテゴリを獲得\n",
    "        \"\"\"\n",
    "        best = None\n",
    "        max_prob =  -sys.maxsize\n",
    "        \n",
    "        for cat in self.catcount.keys():\n",
    "            prob = self.score(words, cat)\n",
    "            if prob > max_prob:\n",
    "                max_prob = prob\n",
    "                best = cat\n",
    "        return best"
   ]
  },
  {
   "cell_type": "markdown",
   "metadata": {},
   "source": [
    "# 訓練データを与えて分類を実行"
   ]
  },
  {
   "cell_type": "code",
   "execution_count": 4,
   "metadata": {
    "collapsed": true
   },
   "outputs": [],
   "source": [
    "nb = NaiveBayes()"
   ]
  },
  {
   "cell_type": "code",
   "execution_count": 5,
   "metadata": {
    "collapsed": true
   },
   "outputs": [],
   "source": [
    "# gihyo.jpの例を利用\n",
    "nb.train('''Python（パイソン）は，オランダ人のグイド・ヴァンロッサムが作ったオープンソースのプログラミング言語。\n",
    "オブジェクト指向スクリプト言語の一種であり，Perlとともに欧米で広く普及している。イギリスのテレビ局 BBC が製作したコメディ番組『空飛ぶモンティパイソン』にちなんで名付けられた。\n",
    "Python は英語で爬虫類のニシキヘビの意味で，Python言語のマスコットやアイコンとして使われることがある。Pythonは汎用の高水準言語である。プログラマの生産性とコードの信頼性を重視して設計されており，核となるシンタックスおよびセマンティクスは必要最小限に抑えられている反面，利便性の高い大規模な標準ライブラリを備えている。\n",
    "Unicode による文字列操作をサポートしており，日本語処理も標準で可能である。多くのプラットフォームをサポートしており（動作するプラットフォーム），また，豊富なドキュメント，豊富なライブラリがあることから，産業界でも利用が増えつつある。''', 'Python')\n",
    "\n",
    "nb.train('''Ruby（ルビー）は，まつもとゆきひろ（通称Matz）により開発されたオブジェクト指向スクリプト言語であり，従来 Perlなどのスクリプト言語が用いられてきた領域でのオブジェクト指向プログラミングを実現する。Rubyは当初1993年2月24日に生まれ， 1995年12月にfj上で発表された。名称のRubyは，プログラミング言語Perlが6月の誕生石であるPearl（真珠）と同じ発音をすることから，まつもとの同僚の誕生石（7月）のルビーを取って名付けられた。''', 'Ruby')\n",
    "\n",
    "nb.train('''豊富な機械学習（きかいがくしゅう，Machine learning）とは，人工知能における研究課題の一つで，人間が自然に行っている学習能力と同様の機能をコンピュータで実現させるための技術・手法のことである。ある程度の数のサンプルデータ集合を対象に解析を行い，そのデータから有用な規則，ルール，知識表現，判断基準などを抽出する。データ集合を解析するため，統計学との関連も非常に深い。\n",
    "機械学習は検索エンジン，医療診断，スパムメールの検出，金融市場の予測，DNA配列の分類，音声認識や文字認識などのパターン認識，ゲーム戦略，ロボット，など幅広い分野で用いられている。応用分野の特性に応じて学習手法も適切に選択する必要があり，様々な手法が提案されている。それらの手法は， Machine Learning や IEEE Transactions on Pattern Analysis and Machine Intelligence などの学術雑誌などで発表されることが多い。''', '機械学習')"
   ]
  },
  {
   "cell_type": "code",
   "execution_count": 6,
   "metadata": {
    "collapsed": false
   },
   "outputs": [
    {
     "name": "stdout",
     "output_type": "stream",
     "text": [
      "Python\n"
     ]
    }
   ],
   "source": [
    "words = get_words('オランダ人が開発したオープンソースのプログラミング言語です。オブジェクト指向でPerlに似ている。')\n",
    "pred_cat = nb.classifier(words)\n",
    "print(pred_cat)"
   ]
  },
  {
   "cell_type": "code",
   "execution_count": 7,
   "metadata": {
    "collapsed": false
   },
   "outputs": [
    {
     "name": "stdout",
     "output_type": "stream",
     "text": [
      "Ruby\n"
     ]
    }
   ],
   "source": [
    "words = get_words('かの有名なMatzが開発した日本初のスクリプト言語')\n",
    "pred_cat = nb.classifier(words)\n",
    "print(pred_cat)"
   ]
  },
  {
   "cell_type": "code",
   "execution_count": 8,
   "metadata": {
    "collapsed": false
   },
   "outputs": [
    {
     "name": "stdout",
     "output_type": "stream",
     "text": [
      "機械学習\n"
     ]
    }
   ],
   "source": [
    "words = get_words('人工知能を用いた学習技術')\n",
    "pred_cat = nb.classifier(words)\n",
    "print(pred_cat)"
   ]
  },
  {
   "cell_type": "code",
   "execution_count": 9,
   "metadata": {
    "collapsed": false
   },
   "outputs": [
    {
     "name": "stdout",
     "output_type": "stream",
     "text": [
      "Python\n"
     ]
    }
   ],
   "source": [
    "words = get_words('様々な機械学習ライブラリが存在するプログラミング言語である')\n",
    "pred_cat = nb.classifier(words)\n",
    "print(pred_cat)"
   ]
  },
  {
   "cell_type": "code",
   "execution_count": 10,
   "metadata": {
    "collapsed": false
   },
   "outputs": [
    {
     "name": "stdout",
     "output_type": "stream",
     "text": [
      "Python\n"
     ]
    }
   ],
   "source": [
    "words = get_words('日本の人が開発したプログラミング言語')\n",
    "pred_cat = nb.classifier(words)\n",
    "print(pred_cat)"
   ]
  },
  {
   "cell_type": "code",
   "execution_count": 11,
   "metadata": {
    "collapsed": false
   },
   "outputs": [
    {
     "name": "stdout",
     "output_type": "stream",
     "text": [
      "Ruby\n"
     ]
    }
   ],
   "source": [
    "words = get_words('日本人が開発したプログラミング言語')\n",
    "pred_cat = nb.classifier(words)\n",
    "print(pred_cat)"
   ]
  },
  {
   "cell_type": "code",
   "execution_count": null,
   "metadata": {
    "collapsed": true
   },
   "outputs": [],
   "source": []
  }
 ],
 "metadata": {
  "kernelspec": {
   "display_name": "Python 3",
   "language": "python",
   "name": "python3"
  },
  "language_info": {
   "codemirror_mode": {
    "name": "ipython",
    "version": 3
   },
   "file_extension": ".py",
   "mimetype": "text/x-python",
   "name": "python",
   "nbconvert_exporter": "python",
   "pygments_lexer": "ipython3",
   "version": "3.5.1"
  }
 },
 "nbformat": 4,
 "nbformat_minor": 0
}
